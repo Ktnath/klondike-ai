{
 "cells": [
  {
   "cell_type": "markdown",
   "id": "afd4d6fd",
   "metadata": {},
   "source": [
    "# Exploration du jeu de données expert\n",
    "Ce notebook explore le fichier `data/expert_dataset.npz` généré par le solveur optimal du Klondike. Il affiche quelques informations et visualisations de base sur les transitions enregistrées."
   ]
  },
  {
   "cell_type": "code",
   "execution_count": null,
   "id": "dc727b8d",
   "metadata": {},
   "outputs": [],
   "source": [
    "import os\n",
    "import numpy as np\n",
    "import matplotlib.pyplot as plt\n",
    "from collections import Counter\n",
    "from sklearn.decomposition import PCA\n",
    "\n",
    "DATA_PATH = 'data/expert_dataset.npz'\n",
    "if not os.path.exists(DATA_PATH):\n",
    "    raise FileNotFoundError(f\"Le fichier {DATA_PATH} est introuvable. Générez-le d'abord avec generate_expert_dataset.py\")\n",
    "\n",
    "data = np.load(DATA_PATH, allow_pickle=True)\n"
   ]
  },
  {
   "cell_type": "markdown",
   "id": "0a2846cc",
   "metadata": {},
   "source": [
    "## Taille et formes des tableaux\n",
    "Les différentes clés du fichier ainsi que leurs formes et types sont listées ci-dessous."
   ]
  },
  {
   "cell_type": "code",
   "execution_count": null,
   "id": "77083dad",
   "metadata": {},
   "outputs": [],
   "source": [
    "for key in data.files:\n",
    "    arr = data[key]\n",
    "    print(f\"{key}: shape={arr.shape}, dtype={arr.dtype}\")\n",
    "print(f\"Nombre total de transitions: {len(data[list(data.files)[0]])}\")\n"
   ]
  },
  {
   "cell_type": "markdown",
   "id": "b39129e0",
   "metadata": {},
   "source": [
    "## Distribution des intentions\n",
    "Si le tableau `intentions` est présent, on trace la fréquence de chaque intention rencontrée."
   ]
  },
  {
   "cell_type": "code",
   "execution_count": null,
   "id": "08313eb2",
   "metadata": {},
   "outputs": [],
   "source": [
    "if 'intentions' in data:\n",
    "    intentions = data['intentions']\n",
    "    counts = Counter(intentions)\n",
    "    labels, values = zip(*counts.items())\n",
    "    plt.figure(figsize=(6,4))\n",
    "    plt.bar(labels, values)\n",
    "    plt.title('Distribution des intentions')\n",
    "    plt.ylabel('Occurrences')\n",
    "    plt.xticks(rotation=45, ha='right')\n",
    "    plt.tight_layout()\n",
    "    plt.show()\n",
    "else:\n",
    "    print('Aucune intention présente dans le dataset.')\n"
   ]
  },
  {
   "cell_type": "markdown",
   "id": "bd397fb3",
   "metadata": {},
   "source": [
    "## Projection PCA des observations\n",
    "Les observations (vecteurs de 156 features) sont projetées en 2D à l'aide d'une analyse en composantes principales pour visualiser leur répartition."
   ]
  },
  {
   "cell_type": "code",
   "execution_count": null,
   "id": "afa0c585",
   "metadata": {},
   "outputs": [],
   "source": [
    "observations = data['observations']\n",
    "# échantillonner pour accélérer si le jeu de données est volumineux\n",
    "sample_size = min(5000, len(observations))\n",
    "subset = observations[:sample_size]\n",
    "pca = PCA(n_components=2)\n",
    "proj = pca.fit_transform(subset)\n",
    "plt.figure(figsize=(6,6))\n",
    "plt.scatter(proj[:,0], proj[:,1], s=5, alpha=0.5)\n",
    "plt.title('Projection PCA des observations')\n",
    "plt.xlabel('PC1')\n",
    "plt.ylabel('PC2')\n",
    "plt.show()\n"
   ]
  },
  {
   "cell_type": "markdown",
   "id": "1d63cd90",
   "metadata": {},
   "source": [
    "## Séquence d'actions d'une partie aléatoire\n",
    "À partir du tableau `dones`, on découpe le dataset en parties. On sélectionne une partie au hasard et on affiche la séquence d'actions correspondante."
   ]
  },
  {
   "cell_type": "code",
   "execution_count": null,
   "id": "5fafdf42",
   "metadata": {},
   "outputs": [],
   "source": [
    "actions = data['actions']\n",
    "dones = data['dones']\n",
    "# indices où une partie se termine\n",
    "end_indices = np.where(dones)[0]\n",
    "start_indices = np.concatenate(([0], end_indices[:-1] + 1))\n",
    "episodes = list(zip(start_indices, end_indices + 1))\n",
    "\n",
    "if episodes:\n",
    "    import random\n",
    "    start, end = random.choice(episodes)\n",
    "    seq = actions[start:end]\n",
    "    plt.figure(figsize=(8,3))\n",
    "    plt.plot(range(len(seq)), seq, marker='o')\n",
    "    plt.title('Actions pour une partie aléatoire')\n",
    "    plt.xlabel('Étape')\n",
    "    plt.ylabel(\"Indice d'action\")\n",
    "    plt.grid(True)\n",
    "    plt.show()\n",
    "else:\n",
    "    print('Impossible de déterminer les parties depuis les données.')\n"
   ]
  }
 ],
 "metadata": {},
 "nbformat": 4,
 "nbformat_minor": 5
}
