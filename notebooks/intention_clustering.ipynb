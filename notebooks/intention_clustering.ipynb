{
 "cells": [
  {
   "cell_type": "markdown",
   "metadata": {},
   "source": [
    "# Regroupement des intentions\n",
    "Ce notebook illustre l'utilisation du script `intention_clustering.py` pour regrouper et visualiser les intentions d'un jeu de données." 
   ]
  },
  {
   "cell_type": "code",
   "execution_count": null,
   "metadata": {},
   "outputs": [],
   "source": [
    "import numpy as np\n",
    "import matplotlib.pyplot as plt\n",
    "from sklearn.decomposition import PCA\n",
    "from sklearn.manifold import TSNE\n",
    "import pandas as pd\n",
    "\n",
    "from train.intention_embedding import IntentionEncoder\n",
    "from collections import Counter\n",
    "\n",
    "DATA_PATH = 'data/expert_dataset.npz'\n",
    "data = np.load(DATA_PATH, allow_pickle=True)\n",
    "intentions = [str(i) for i in data['intentions']]\n",
    "encoder = IntentionEncoder()\n",
    "encoder.fit(intentions)\n",
    "vecs = encoder.encode_batch(intentions).cpu().numpy()\n"
   ]
  },
  {
   "cell_type": "code",
   "execution_count": null,
   "metadata": {},
   "outputs": [],
   "source": [
    "# Exemple de clustering avec KMeans\n",
    "from sklearn.cluster import KMeans\n",
    "kmeans = KMeans(n_clusters=4, random_state=0).fit(vecs)\n",
    "labels = kmeans.labels_\n",
    "\n",
    "pca = PCA(n_components=2).fit_transform(vecs)\n",
    "plt.figure(figsize=(6,4))\n",
    "plt.scatter(pca[:,0], pca[:,1], c=labels)\n",
    "plt.title('Projection PCA des intentions')\n",
    "plt.show()\n"
   ]
  },
  {
   "cell_type": "code",
   "execution_count": null,
   "metadata": {},
   "outputs": [],
   "source": [
    "# Heatmap des fréquences par cluster\n",
    "df = pd.DataFrame({'intent': intentions, 'cluster': labels})\n",
    "freq = pd.crosstab(df['cluster'], df['intent'])\n",
    "plt.figure(figsize=(10,4))\n",
    "plt.imshow(freq, aspect='auto', cmap='Blues')\n",
    "plt.yticks(range(len(freq.index)), freq.index)\n",
    "plt.xticks(range(len(freq.columns)), freq.columns, rotation=90)\n",
    "plt.title('Fréquence des intentions par cluster')\n",
    "plt.show()\n"
   ]
  }
 ],
 "metadata": {
  "kernelspec": {
   "display_name": "Python 3",
   "language": "python",
   "name": "python3"
  },
  "language_info": {
   "name": "python",
   "version": "3.10"
  }
 },
 "nbformat": 4,
 "nbformat_minor": 5
}
