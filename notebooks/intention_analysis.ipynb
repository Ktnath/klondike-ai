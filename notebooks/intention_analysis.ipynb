{
 "cells": [
  {
   "cell_type": "markdown",
   "metadata": {},
   "source": [
    "# Analyse des intentions\n",
    "Ce notebook illustre l'utilisation de `intention_utils` pour simplifier, filtrer et regrouper les intentions." 
   ]
  },
  {
   "cell_type": "code",
   "execution_count": null,
   "metadata": {},
   "outputs": [],
   "source": [
    "from intention_utils import simplify_intention, filter_ambiguous, group_into_hierarchy\n",
    "import numpy as np\n",
    "from collections import Counter\n",
    "\n",
    "data = np.load('data/expert_dataset.npz', allow_pickle=True)\n",
    "raw_intentions = [str(x) for x in data['intentions']]\n",
    "simplified = [simplify_intention(x) for x in raw_intentions]\n",
    "filtered = [i for i in filter_ambiguous(simplified) if i is not None]\n",
    "hierarchy = group_into_hierarchy(filtered)\n"
   ]
  },
  {
   "cell_type": "code",
   "execution_count": null,
   "metadata": {},
   "outputs": [],
   "source": [
    "freqs = Counter(hierarchy)\n",
    "for label, count in freqs.items():\n",
    "    print(f'{label}: {count}')\n"
   ]
  }
 ],
 "metadata": {
  "kernelspec": {
   "display_name": "Python 3",
   "language": "python",
   "name": "python3"
  },
  "language_info": {
   "name": "python",
   "version": "3.10"
  }
 },
 "nbformat": 4,
 "nbformat_minor": 5
}
